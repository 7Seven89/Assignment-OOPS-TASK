{
 "cells": [
  {
   "cell_type": "markdown",
   "id": "0d1c72dd-1113-4eb1-8473-f493bf290cb8",
   "metadata": {},
   "source": [
    "**Q1. Create a vehicle class with an init method having instance variables as name_of_vehicle, max_speed\n",
    "and average_of_vehicle.**"
   ]
  },
  {
   "cell_type": "code",
   "execution_count": 11,
   "id": "6debb8cc-8612-4182-ae4e-aa98d08c4d79",
   "metadata": {},
   "outputs": [],
   "source": [
    "# A1. \n",
    "\n",
    "class vehicle:\n",
    "    def __init__(self, name_of_vehicle, max_speed, average_of_vehicle):\n",
    "        self.name_of_vehicle = name_of_vehicle\n",
    "        self.max_speed = max_speed\n",
    "        self.average_of_vehicle = average_of_vehicle\n",
    "\n",
    "    def vehicle_details(self):\n",
    "        return self.name_of_vehicle, self.max_speed, self.average_of_vehicle "
   ]
  },
  {
   "cell_type": "code",
   "execution_count": 12,
   "id": "6fe18a7d-9eb7-402f-b1ba-1ecfd1d4d05b",
   "metadata": {},
   "outputs": [
    {
     "data": {
      "text/plain": [
       "('Toyota', 230, 60)"
      ]
     },
     "execution_count": 12,
     "metadata": {},
     "output_type": "execute_result"
    }
   ],
   "source": [
    "vehicle_1 = vehicle(\"Toyota\", 230, 60)\n",
    "vehicle_1.vehicle_details()"
   ]
  },
  {
   "cell_type": "markdown",
   "id": "10962f6c-86a4-44be-ac2b-6fbfef69f70b",
   "metadata": {},
   "source": [
    "**Q2. Create a child class car from the vehicle class created in Que 1, which will inherit the vehicle class.\n",
    "Create a method named seating_capacity which takes capacity as an argument and returns the name of\n",
    "the vehicle and its seating capacity.**"
   ]
  },
  {
   "cell_type": "code",
   "execution_count": 16,
   "id": "090b8373-2936-4a9f-af97-f78c8f01fb0c",
   "metadata": {},
   "outputs": [],
   "source": [
    "# A2.\n",
    "\n",
    "class car(vehicle):\n",
    "    \n",
    "    def seating_capacity(self, capacity):\n",
    "        return self.name_of_vehicle, capacity"
   ]
  },
  {
   "cell_type": "code",
   "execution_count": 21,
   "id": "d5782ffa-4cd6-42c6-b850-9e5f5b0bdb68",
   "metadata": {},
   "outputs": [
    {
     "data": {
      "text/plain": [
       "('Toyota', 5)"
      ]
     },
     "execution_count": 21,
     "metadata": {},
     "output_type": "execute_result"
    }
   ],
   "source": [
    "vehicle_2 = car(\"Toyota\", 230, 60)\n",
    "vehicle_2.seating_capacity(5)"
   ]
  },
  {
   "cell_type": "markdown",
   "id": "58f3d179-24b4-4e2f-810b-526670ba2f23",
   "metadata": {},
   "source": [
    "**Q3. What is multiple inheritance? Write a python code to demonstrate multiple inheritance.**"
   ]
  },
  {
   "cell_type": "markdown",
   "id": "6dde80ea-cfec-4a66-83d8-5043f42578a0",
   "metadata": {},
   "source": [
    "*A3. Multiple inheritance in Python refers to a class inheriting attributes and methods from more than one parent class. This allows a child class to inherit characteristics from multiple parent classes.*"
   ]
  },
  {
   "cell_type": "code",
   "execution_count": 29,
   "id": "a3a29c57-2507-4499-bf15-362d55cf84ee",
   "metadata": {},
   "outputs": [],
   "source": [
    "# A3. - Example:\n",
    "\n",
    "class class1:\n",
    "    def test_class1(self):\n",
    "        return \"This is my class 1\"\n",
    "\n",
    "class class2:\n",
    "    def test_class2(self):\n",
    "        return \"This is my class 2\"\n",
    "\n",
    "class class3(class1, class2):\n",
    "    def test_class3(self):\n",
    "        return \"This is my class 3\""
   ]
  },
  {
   "cell_type": "code",
   "execution_count": 30,
   "id": "cb214ed3-3634-409a-b920-204b5bacd324",
   "metadata": {},
   "outputs": [
    {
     "name": "stdout",
     "output_type": "stream",
     "text": [
      "This is my class 1\n",
      "This is my class 2\n"
     ]
    }
   ],
   "source": [
    "test_obj = class3()\n",
    "print(test_obj.test_class1())\n",
    "print(test_obj.test_class2())"
   ]
  },
  {
   "cell_type": "markdown",
   "id": "84f8ee27-8b09-407e-8574-7c923424889a",
   "metadata": {},
   "source": [
    "**Q4. What are getter and setter in python? Create a class and create a getter and a setter method in this\n",
    "class.**"
   ]
  },
  {
   "cell_type": "markdown",
   "id": "17ceba30-f75a-4841-9326-4b6229737d78",
   "metadata": {},
   "source": [
    "*A4. Getter and setter methods are used to access and modify the private attributes of a class, respectively. Getters are used to retrieve the value of a private attribute, while setters are used to set or modify the value of a private attribute.*"
   ]
  },
  {
   "cell_type": "code",
   "execution_count": 43,
   "id": "853ca8bc-b2da-4bd5-973c-c9a330e299fd",
   "metadata": {},
   "outputs": [],
   "source": [
    "# A4.\n",
    "\n",
    "class pwskills:\n",
    "\n",
    "    def __init__(self, fname, lname):\n",
    "        self.fname = fname\n",
    "        self.lname = lname\n",
    "\n",
    "    @property\n",
    "    def fullname(self):\n",
    "        return \"{} {}\".format(self.fname, self.lname)\n",
    "\n",
    "    @fullname.setter\n",
    "    def fullname(self, name):\n",
    "        first, last = name.split(\" \")\n",
    "        self.fname = first\n",
    "        self.lname = last"
   ]
  },
  {
   "cell_type": "code",
   "execution_count": 44,
   "id": "b5fae1d2-1a76-4724-a745-539b88544d91",
   "metadata": {},
   "outputs": [
    {
     "data": {
      "text/plain": [
       "'Nobita Gian'"
      ]
     },
     "execution_count": 44,
     "metadata": {},
     "output_type": "execute_result"
    }
   ],
   "source": [
    "# Getter:\n",
    "\n",
    "student_1 = pwskills(\"Nobita\", \"Gian\")\n",
    "student_1.fullname"
   ]
  },
  {
   "cell_type": "code",
   "execution_count": 45,
   "id": "85ba50f0-a6c5-4f48-8334-e2783e431449",
   "metadata": {},
   "outputs": [
    {
     "data": {
      "text/plain": [
       "'Nobita Nobi'"
      ]
     },
     "execution_count": 45,
     "metadata": {},
     "output_type": "execute_result"
    }
   ],
   "source": [
    "# Setter:\n",
    "\n",
    "student_1.fullname = \"Nobita Nobi\"\n",
    "student_1.fullname"
   ]
  },
  {
   "cell_type": "markdown",
   "id": "cdc6ddf7-ad7d-4b4c-bcc4-11cfefa154f3",
   "metadata": {},
   "source": [
    "**Q5.What is method overriding in python? Write a python code to demonstrate method overriding.**"
   ]
  },
  {
   "cell_type": "markdown",
   "id": "259dcd68-c329-4425-a502-a522d22dc0ec",
   "metadata": {},
   "source": [
    "*A5. Method overriding in Python refers to the process of defining a method in a child class that has the same name as a method in its parent class, but with different functionality. When an object of the child class calls the overridden method, the version defined in the child class is executed instead of the one in the parent class.*"
   ]
  },
  {
   "cell_type": "code",
   "execution_count": 46,
   "id": "bf2b9180-1d11-47e2-ab9b-b04390445fd6",
   "metadata": {},
   "outputs": [],
   "source": [
    "# A5. - Example:\n",
    "\n",
    "class class_1:\n",
    "    def test_1(self):\n",
    "        print(\"This is Class 1\")\n",
    "\n",
    "class class_2(class_1):\n",
    "    def test_1(self):\n",
    "        print(\"This is class 2\")"
   ]
  },
  {
   "cell_type": "code",
   "execution_count": 49,
   "id": "5bb8570e-8551-41b3-976b-f400b53daa9c",
   "metadata": {},
   "outputs": [
    {
     "name": "stdout",
     "output_type": "stream",
     "text": [
      "This is class 2\n"
     ]
    }
   ],
   "source": [
    "obj_test = class_2()\n",
    "obj_test.test_1()"
   ]
  }
 ],
 "metadata": {
  "kernelspec": {
   "display_name": "Python 3 (ipykernel)",
   "language": "python",
   "name": "python3"
  },
  "language_info": {
   "codemirror_mode": {
    "name": "ipython",
    "version": 3
   },
   "file_extension": ".py",
   "mimetype": "text/x-python",
   "name": "python",
   "nbconvert_exporter": "python",
   "pygments_lexer": "ipython3",
   "version": "3.12.2"
  }
 },
 "nbformat": 4,
 "nbformat_minor": 5
}
